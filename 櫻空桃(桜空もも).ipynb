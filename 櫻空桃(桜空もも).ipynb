{
 "cells": [
  {
   "cell_type": "code",
   "execution_count": null,
   "metadata": {},
   "outputs": [],
   "source": [
    "import requests\n",
    "import time\n",
    "from bs4 import BeautifulSoup\n",
    "import random\n",
    "start=1 #起始頁面\n",
    "times=10 #抓取頁數\n",
    "end=start+times #終止頁數\n",
    "\n",
    "for i in range(start,end,1):\n",
    "    link=\"https://www.jav321.com/star/1039157/\"+str(i)\n",
    "    jav = requests.get(link)\n",
    "    time.sleep(random.randint(1,10))\n",
    "    soup = BeautifulSoup(jav.text,\"html.parser\")\n",
    "    name = soup.find_all(\"a\")\n",
    "    for a in name:\n",
    "        if(len(a.text.split())>1 and a.text!=\"← 前の\" and a.text!=\"→ 次の\"):\n",
    "            print(a.text)"
   ]
  }
 ],
 "metadata": {
  "kernelspec": {
   "display_name": "Python 3",
   "language": "python",
   "name": "python3"
  },
  "language_info": {
   "codemirror_mode": {
    "name": "ipython",
    "version": 3
   },
   "file_extension": ".py",
   "mimetype": "text/x-python",
   "name": "python",
   "nbconvert_exporter": "python",
   "pygments_lexer": "ipython3",
   "version": "3.7.1"
  }
 },
 "nbformat": 4,
 "nbformat_minor": 2
}
